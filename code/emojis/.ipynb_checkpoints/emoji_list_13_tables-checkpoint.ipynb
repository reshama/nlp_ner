{
 "cells": [
  {
   "cell_type": "markdown",
   "metadata": {},
   "source": [
    "scrape emoji tables from:   http://sheet.shiar.nl/emoji  \n",
    "date last updated:  9/1/16  \n",
    "by:  Reshama"
   ]
  },
  {
   "cell_type": "code",
   "execution_count": 1,
   "metadata": {
    "collapsed": false
   },
   "outputs": [
    {
     "name": "stdout",
     "output_type": "stream",
     "text": [
      "Python 2.7.10\r\n"
     ]
    }
   ],
   "source": [
    "!python --version"
   ]
  },
  {
   "cell_type": "code",
   "execution_count": 2,
   "metadata": {
    "collapsed": false
   },
   "outputs": [
    {
     "name": "stdout",
     "output_type": "stream",
     "text": [
      "sys.version_info(major=2, minor=7, micro=12, releaselevel='final', serial=0)\n"
     ]
    }
   ],
   "source": [
    "import sys\n",
    "print sys.version_info"
   ]
  },
  {
   "cell_type": "code",
   "execution_count": 3,
   "metadata": {
    "collapsed": true
   },
   "outputs": [],
   "source": [
    "import requests\n",
    "from bs4 import BeautifulSoup\n",
    "from pprint import pprint\n",
    "import re\n",
    "import pandas as pd\n",
    "from collections import defaultdict"
   ]
  },
  {
   "cell_type": "code",
   "execution_count": 7,
   "metadata": {
    "collapsed": false
   },
   "outputs": [],
   "source": [
    "#!curl http://sheet.shiar.nl/emoji > emoji.html"
   ]
  },
  {
   "cell_type": "code",
   "execution_count": 8,
   "metadata": {
    "collapsed": false
   },
   "outputs": [
    {
     "name": "stdout",
     "output_type": "stream",
     "text": [
      "     259 emoji.html\r\n",
      "     487 emoji_list_13_tables.ipynb\r\n",
      "     746 total\r\n"
     ]
    }
   ],
   "source": [
    "!wc -l *\n",
    "#!ls -alt"
   ]
  },
  {
   "cell_type": "code",
   "execution_count": 9,
   "metadata": {
    "collapsed": false
   },
   "outputs": [],
   "source": [
    "#!cat emoji"
   ]
  },
  {
   "cell_type": "code",
   "execution_count": 12,
   "metadata": {
    "collapsed": false
   },
   "outputs": [],
   "source": [
    "soup = BeautifulSoup(\"emoji.html\")\n",
    "url = r\"emoji.html\"\n",
    "page = open(url)\n",
    "soup = BeautifulSoup(page.read(), \"lxml\")"
   ]
  },
  {
   "cell_type": "code",
   "execution_count": 13,
   "metadata": {
    "collapsed": false
   },
   "outputs": [
    {
     "name": "stdout",
     "output_type": "stream",
     "text": [
      "<!DOCTYPE html>\n",
      "<html lang=\"en\">\n",
      " <head>\n",
      "  <meta content=\"text/html; charset=utf-8\" http-equiv=\"content-type\"/>\n",
      "  <title>\n",
      "   emoji cheat sheet\n",
      "  </title>\n",
      "  <meta content=\"Emoticons overview and Unicode equivalents of MSN, Y!M, and Gmail icons.\" name=\"description\"/>\n",
      "  <meta content=\"sheet, cheat, emoticon, smiley, emoji, unicode, chat, im, messenger, msn, yahoo, ym, gmail, google\" name=\"keywords\"/>\n",
      "  <link href=\"/clip.png\" rel=\"icon\" type=\"image/png\"/>\n",
      "  <link href=\"/light.css?1.6\" media=\"all\" re\n"
     ]
    }
   ],
   "source": [
    "print soup.prettify()[0:500]"
   ]
  },
  {
   "cell_type": "code",
   "execution_count": 14,
   "metadata": {
    "collapsed": true
   },
   "outputs": [],
   "source": [
    "tables = soup.find_all('table')"
   ]
  },
  {
   "cell_type": "code",
   "execution_count": 15,
   "metadata": {
    "collapsed": false
   },
   "outputs": [
    {
     "data": {
      "text/plain": [
       "14"
      ]
     },
     "execution_count": 15,
     "metadata": {},
     "output_type": "execute_result"
    }
   ],
   "source": [
    "len(tables)"
   ]
  },
  {
   "cell_type": "code",
   "execution_count": 16,
   "metadata": {
    "collapsed": false
   },
   "outputs": [
    {
     "name": "stdout",
     "output_type": "stream",
     "text": [
      "<table><tbody>\n",
      "</tbody></table>\n"
     ]
    }
   ],
   "source": [
    "# no data in here\n",
    "print tables[0]"
   ]
  },
  {
   "cell_type": "code",
   "execution_count": 23,
   "metadata": {
    "collapsed": false
   },
   "outputs": [
    {
     "name": "stdout",
     "output_type": "stream",
     "text": [
      "<table><tbody>\n",
      "<tr><th><img alt=\"heart\" src=\"http://mail.google.com/mail/help/images/screenshots/chat/heart.gif\"/></th><td><kbd>&lt;3</kbd></td><td>heart/love</td><td>♥\n",
      "</td></tr><tr><th><img alt=\"monkey\" src=\"http://mail.google.com/mail/help/images/screenshots/chat/monkey.gif\"/></th><td><kbd>:(|)</kbd></td><td>it's a monkey!</td><td>🐵\n",
      "</td></tr><tr><th><img alt=\"rockout\" src=\"http://mail.google.com/mail/help/images/screenshots/chat/rockout.gif\"/></th><td><kbd>\\m/</kbd></td><td>rock out.</td><td>✊\n",
      "</td></tr><tr><th><img alt=\"shocked\" src=\"http://mail.google.com/mail/help/images/screenshots/chat/shocked.gif\"/></th><td><kbd>:-o</kbd></td><td>shocked</td><td>😲\n",
      "</td></tr><tr><th><img alt=\"grin\" src=\"http://mail.google.com/mail/help/images/screenshots/chat/grin.gif\"/></th><td><kbd>:D</kbd></td><td>grin</td><td>😃\n",
      "</td></tr><tr><th><img alt=\"frown\" src=\"http://mail.google.com/mail/help/images/screenshots/chat/frown.gif\"/></th><td><kbd>:(</kbd></td><td>frown</td><td>☹\n",
      "</td></tr><tr><th><img alt=\"angry\" src=\"http://mail.google.com/mail/help/images/screenshots/chat/angry.gif\"/></th><td><kbd>x-(</kbd></td><td>angry</td><td>😣\n",
      "</td></tr><tr><th><img alt=\"cool\" src=\"http://mail.google.com/mail/help/images/screenshots/chat/cool.gif\"/></th><td><kbd>B-)</kbd></td><td>cool</td><td>😎\n",
      "</td></tr><tr><th><img alt=\"cry\" src=\"http://mail.google.com/mail/help/images/screenshots/chat/cry.gif\"/></th><td><kbd>:'(</kbd></td><td>cry</td><td>😢\n",
      "</td></tr><tr><th><img alt=\"equal_grin\" src=\"http://mail.google.com/mail/help/images/screenshots/chat/equal_grin.gif\"/></th><td><kbd>=D</kbd></td><td>equal grin\n",
      "</td></tr><tr><th><img alt=\"wink\" src=\"http://mail.google.com/mail/help/images/screenshots/chat/wink.gif\"/></th><td><kbd>;)</kbd></td><td>wink</td><td>😉\n",
      "</td></tr><tr><th><img alt=\"straightface\" src=\"http://mail.google.com/mail/help/images/screenshots/chat/straightface.gif\"/></th><td><kbd>:-|</kbd></td><td>straight face</td><td>😐\n",
      "</td></tr><tr><th><img alt=\"equal_smile\" src=\"http://mail.google.com/mail/help/images/screenshots/chat/equal_smile.gif\"/></th><td><kbd>=)</kbd></td><td>equal smile\n",
      "</td></tr><tr><th><img alt=\"nose_grin\" src=\"http://mail.google.com/mail/help/images/screenshots/chat/nose_grin.gif\"/></th><td><kbd>:-D</kbd></td><td>nose grin\n",
      "</td></tr><tr><th><img alt=\"wink_big_nose\" src=\"http://mail.google.com/mail/help/images/screenshots/chat/wink_big_nose.gif\"/></th><td><kbd>;^)</kbd></td><td>big nose wink\n",
      "</td></tr><tr><th><img alt=\"wink_nose\" src=\"http://mail.google.com/mail/help/images/screenshots/chat/wink_nose.gif\"/></th><td><kbd>;-)</kbd></td><td>nose wink\n",
      "</td></tr><tr><th><img alt=\"nose_smile\" src=\"http://mail.google.com/mail/help/images/screenshots/chat/nose_smile.gif\"/></th><td><kbd>:-)</kbd></td><td>nose smile\n",
      "</td></tr><tr><th><img alt=\"slant\" src=\"http://mail.google.com/mail/help/images/screenshots/chat/slant.gif\"/></th><td><kbd>:-/</kbd></td><td>slant</td><td>😖\n",
      "</td></tr><tr><th><img alt=\"tongue\" src=\"http://mail.google.com/mail/help/images/screenshots/chat/tongue.gif\"/></th><td><kbd>:P</kbd></td><td>tongue</td><td>😝\n",
      "</td></tr></tbody></table>\n"
     ]
    }
   ],
   "source": [
    "print tables[1]"
   ]
  },
  {
   "cell_type": "code",
   "execution_count": 24,
   "metadata": {
    "collapsed": false
   },
   "outputs": [
    {
     "name": "stdout",
     "output_type": "stream",
     "text": [
      "len(emoji_list):  19\n",
      "len(emoji_list):  17\n",
      "len(emoji_list):  25\n",
      "len(emoji_list):  29\n",
      "len(emoji_list):  15\n",
      "len(emoji_list):  21\n",
      "len(emoji_list):  21\n",
      "len(emoji_list):  19\n",
      "len(emoji_list):  13\n",
      "len(emoji_list):  11\n",
      "len(emoji_list):  12\n"
     ]
    }
   ],
   "source": [
    "# clear start file\n",
    "import os\n",
    "#os.remove(\"emoji.text\")\n",
    "\n",
    "def output_emoji_text(datalist, out_filename):\n",
    "    \"\"\"                                                                                                                             \n",
    "    write out emoji list                                                                   \n",
    "    \"\"\"\n",
    "    with open(out_filename, \"a\") as fh:\n",
    "        for row in datalist:\n",
    "            fh.write(row[0] + \"\\n\")\n",
    "                \n",
    "\n",
    "def scrape_table(table_id, logp):\n",
    "    emoji_list=[]\n",
    "    row_count = 0\n",
    "    for row in tables[table_id].find_all('tr'):\n",
    "        row_count += 1\n",
    "        item_array = []\n",
    "        cell_count = 0\n",
    "        for cell in row.find_all('td'):\n",
    "            cell_count += 1\n",
    "            \n",
    "#             # table 4 has multiple emojis on one row; need to do different programming\n",
    "#             if table_id == 4:\n",
    "#                 if cell_count == 1:\n",
    "#                     cell_text_items = cell.text.split(' ')\n",
    "#                     if len(cell_text_items) > 1:\n",
    "#                         for emo in cell_text_items:\n",
    "#                             print \"cell_text_items: \", cell_text_items\n",
    "#                             print str(emo)\n",
    "#                             temp=(str(emo), cell.text)\n",
    "#                             item_array.append(temp)\n",
    "                    \n",
    "            if cell_count < 3:\n",
    "                item_array.append(str(cell.text))\n",
    "            else:\n",
    "                item_array.append(cell.text)\n",
    "            \n",
    "            if logp == 1:\n",
    "                print \"cell_count: \", cell_count\n",
    "                print type(cell.text)\n",
    "                print \"cell.text:    \", cell.text\n",
    "                print \"item_array:\"\n",
    "                print item_array\n",
    "        emoji_list.append(item_array)\n",
    "    if logp == 2:\n",
    "        print \"len(emoji_list): \", len(emoji_list)\n",
    "    if logp == 3:\n",
    "        pprint(emoji_list)\n",
    "    output_emoji_text(emoji_list, \"emoji_draft.text\")\n",
    "    return emoji_list\n",
    "\n",
    "\n",
    "emoji_list = scrape_table(1, 2)\n",
    "emoji_list = scrape_table(2, 2)\n",
    "\n",
    "\n",
    "emoji_list = scrape_table(4, 2)\n",
    "emoji_list = scrape_table(5, 2)\n",
    "\n",
    "emoji_list = scrape_table(6, 2)\n",
    "\n",
    "emoji_list = scrape_table(8, 2)\n",
    "emoji_list = scrape_table(9, 2)\n",
    "\n",
    "emoji_list = scrape_table(10, 2)\n",
    "\n",
    "emoji_list = scrape_table(11, 2)\n",
    "\n",
    "emoji_list = scrape_table(12, 2)\n",
    "\n",
    "emoji_list = scrape_table(13, 2)\n",
    "\n",
    "\n",
    "# empty\n",
    "#emoji_list = scrape_table(3, 2)\n",
    "\n",
    "# empty\n",
    "#emoji_list = scrape_table(7, 2)\n"
   ]
  },
  {
   "cell_type": "code",
   "execution_count": 25,
   "metadata": {
    "collapsed": false
   },
   "outputs": [
    {
     "name": "stdout",
     "output_type": "stream",
     "text": [
      "     259 emoji.html\r\n",
      "     234 emoji.text\r\n",
      "     202 emoji_draft.text\r\n",
      "     468 emoji_list_13_tables.ipynb\r\n",
      "    1163 total\r\n"
     ]
    }
   ],
   "source": [
    "!wc -l *"
   ]
  },
  {
   "cell_type": "code",
   "execution_count": 26,
   "metadata": {
    "collapsed": false
   },
   "outputs": [
    {
     "name": "stdout",
     "output_type": "stream",
     "text": [
      "<3\r\n",
      ":(|)\r\n",
      "\\m/\r\n",
      ":-o\r\n",
      ":D\r\n",
      ":(\r\n",
      "x-(\r\n",
      "B-)\r\n",
      ":'(\r\n",
      "=D\r\n"
     ]
    }
   ],
   "source": [
    "!head emoji_draft.text"
   ]
  },
  {
   "cell_type": "code",
   "execution_count": 27,
   "metadata": {
    "collapsed": true
   },
   "outputs": [],
   "source": [
    "# Note:  tables 4 and 5 have multiple emoji's per row\n",
    "# to save time, I will split manually"
   ]
  },
  {
   "cell_type": "code",
   "execution_count": 28,
   "metadata": {
    "collapsed": false
   },
   "outputs": [
    {
     "name": "stdout",
     "output_type": "stream",
     "text": [
      "     259 emoji.html\r\n",
      "     234 emoji.text\r\n",
      "     202 emoji_draft.text\r\n",
      "     468 emoji_list_13_tables.ipynb\r\n",
      "    1163 total\r\n"
     ]
    }
   ],
   "source": [
    "!wc -l *"
   ]
  },
  {
   "cell_type": "code",
   "execution_count": null,
   "metadata": {
    "collapsed": true
   },
   "outputs": [],
   "source": [
    "#also, manually add this item to emoji.text lexicon (it was a typo in train data):\n",
    "\":' )\"    "
   ]
  },
  {
   "cell_type": "code",
   "execution_count": null,
   "metadata": {
    "collapsed": true
   },
   "outputs": [],
   "source": [
    "!wc -l *"
   ]
  },
  {
   "cell_type": "markdown",
   "metadata": {
    "collapsed": true
   },
   "source": [
    "#copy emoji.text into evaluation repo:  \n",
    "https://github.com/thisismetis/wnut_ner_evaluation/tree/master/lexicon"
   ]
  },
  {
   "cell_type": "code",
   "execution_count": null,
   "metadata": {
    "collapsed": true
   },
   "outputs": [],
   "source": []
  }
 ],
 "metadata": {
  "kernelspec": {
   "display_name": "Python 2",
   "language": "python",
   "name": "python2"
  },
  "language_info": {
   "codemirror_mode": {
    "name": "ipython",
    "version": 2
   },
   "file_extension": ".py",
   "mimetype": "text/x-python",
   "name": "python",
   "nbconvert_exporter": "python",
   "pygments_lexer": "ipython2",
   "version": "2.7.12"
  }
 },
 "nbformat": 4,
 "nbformat_minor": 0
}
